{
 "cells": [
  {
   "cell_type": "markdown",
   "id": "5d94db8f-012c-41e3-b1b2-ac7dd91bc716",
   "metadata": {},
   "source": [
    "# Synthetic Dataset Verification\n",
    "\n",
    "Goal: Create synthetic dataset with heteroscedastic variability"
   ]
  },
  {
   "cell_type": "markdown",
   "id": "850b417d-09d7-4e68-84cd-f5d516092044",
   "metadata": {},
   "source": [
    "## Set Up"
   ]
  },
  {
   "cell_type": "code",
   "execution_count": null,
   "id": "5e017346-27b6-4860-ae4a-5c7773638266",
   "metadata": {},
   "outputs": [],
   "source": [
    "#standard libraries\n",
    "library(assertthat)\n",
    "library(stringr)\n",
    "library(pracma)\n",
    "library(plyr)\n",
    "library(dplyr)\n",
    "library(tidyverse)\n",
    "#regression libraries\n",
    "library(lme4)\n",
    "#plotting libraries\n",
    "library(ggplot2)\n",
    "library(ggpubr)\n",
    "library(RColorBrewer)\n",
    "library(scales)\n",
    "library(repr)\n",
    "#user functions\n",
    "#source(file.path('..','..','r_lib','auxiliary_functions.r'))\n",
    "\n",
    "options(warn=-1)"
   ]
  },
  {
   "cell_type": "markdown",
   "id": "9e476e74-989e-4e97-986f-cbd049c9b5c5",
   "metadata": {},
   "source": [
    "### Plotting Setup"
   ]
  },
  {
   "cell_type": "code",
   "execution_count": null,
   "id": "af691f4f-3e73-42a1-84b7-bf809e6c24db",
   "metadata": {},
   "outputs": [],
   "source": [
    "base_breaks <- function(n = 10){\n",
    "  function(x) {\n",
    "    axisTicks(log10(range(x, na.rm = TRUE)), log = TRUE, n = n)\n",
    "  }\n",
    "}\n",
    "#log breaks\n",
    "breaks_log       <- 10^(-10:10)\n",
    "breaks_log_minor <- rep(1:9, 21)*(10^rep(-10:10, each=9))\n",
    "#plotting theme\n",
    "theme_set(theme_linedraw())\n",
    "\n",
    "#text size\n",
    "size_title <- 15\n",
    "size_text  <- 12\n",
    "\n",
    "#color palette\n",
    "color_dW   <- \"#666666\"\n",
    "color_dB   <- \"#00BFC4\"\n",
    "color_dBP  <- \"#4DAF4A\"\n",
    "color_dS2S <- \"#F781BF\"\n",
    "color_dSP  <- \"#FFFF33\"\n",
    "color_dT   <- \"#F8766D\""
   ]
  },
  {
   "cell_type": "markdown",
   "id": "df255c5f-13ec-4192-a4c8-eb4c24c35186",
   "metadata": {},
   "source": [
    "### Define Variables"
   ]
  },
  {
   "cell_type": "code",
   "execution_count": null,
   "id": "90dcac7c-4225-4a99-8cf1-5c91412c7822",
   "metadata": {},
   "outputs": [],
   "source": [
    "#EAS flatfile (removed outliers 2023-11-10)\n",
    "fname_flatfile <- file.path('..','..','..','Raw_files','flatfiles','fas_flatfile_v2no_outliers_20231130.csv')\n",
    "\n",
    "#scaling factor for random effects distance scaling\n",
    "scl_rrup_rref <- 0.01\n",
    "\n",
    "#UTM Zome\n",
    "utm_zone <- '11S'\n",
    "\n",
    "#Defined coefficients\n",
    "c_intrcp <-  2.3\n",
    "c_mag    <-  1.0\n",
    "c_mag2   <- -0.2\n",
    "c_gs     <- -1.0\n",
    "c_rrup   <- -0.01\n",
    "c_lnvs30 <- -0.65\n",
    "\n",
    "#Aleatory Variability\n",
    "tau    <- 0.6\n",
    "phi    <- 0.5\n",
    "phiS2S <- 0.3\n",
    "#Distance Dependent Variability \n",
    "tauP    <- 0.002\n",
    "phiP    <- 0.002\n",
    "\n",
    "#maximum distance\n",
    "max_rrup <- Inf\n",
    "# max_rrup <- 50\n",
    "\n",
    "#empirical std correction\n",
    "flag_emp_sd_correct <- TRUE\n",
    "\n",
    "#output\n",
    "dir_out <- file.path('..','..','..','Data','gmm_ergodic','syndata')\n",
    "dir_fig <- file.path(dir_out, 'figures','')"
   ]
  },
  {
   "cell_type": "markdown",
   "id": "e8130c43-df7e-4ce5-80c0-544f119feba7",
   "metadata": {},
   "source": [
    "## Load Data"
   ]
  },
  {
   "cell_type": "code",
   "execution_count": null,
   "id": "4aa3ff87-5b4b-475b-87eb-d9c55e97727a",
   "metadata": {},
   "outputs": [],
   "source": [
    "#read flatifle\n",
    "df_syn_ds <- read_csv(fname_flatfile, show_col_types = FALSE)\n",
    "#keep only relevant columns\n",
    "df_syn_ds <- df_syn_ds[,c('motion_id','event_id','station_id','path_id','user_id','event_name','comcat_id','magnitude','ztor','vs30','rrup')]\n",
    "\n",
    "#rupture distance subset\n",
    "df_syn_ds <- subset(df_syn_ds, rrup<= max_rrup)\n",
    "\n",
    "colnames(df_syn_ds)\n",
    "head(df_syn_ds) "
   ]
  },
  {
   "cell_type": "markdown",
   "id": "4bcff0d9-c5d6-4759-a655-b2bfb4cee078",
   "metadata": {},
   "source": [
    "#### Compute Scaling Term"
   ]
  },
  {
   "cell_type": "code",
   "execution_count": null,
   "id": "76d8aa0e-74c1-4c51-91c7-4c74827813e5",
   "metadata": {},
   "outputs": [],
   "source": [
    "calc_scl_terms <- function(df_flt, mag='magnitude', rrup='rrup', vs30='vs30', scl_rrup_rref=1,\n",
    "                           fun_mag_quad, fun_pseudo_depth){\n",
    "    \n",
    "    #rupture distance scaling\n",
    "    df_flt[,'rrup']   <- df_flt[,rrup]\n",
    "    #magnitude scaling\n",
    "    df_flt[,'mag']    <- df_flt[,mag]\n",
    "    #quadratic magnitude scaling\n",
    "    df_flt[,'mag2']   <- fun_mag_quad(df_flt[,mag]) \n",
    "    #pseudo depth\n",
    "    df_flt[,'pdepth'] <-  fun_pseudo_depth(df_flt$mag)\n",
    "    #geometrical spreading\n",
    "    df_flt[,'gs']     <-  log(df_flt$rrup + df_flt$pdepth)\n",
    "    #site scaling\n",
    "    df_flt[,'vs30']   <- df_flt[,vs30]\n",
    "    df_flt[,'lnvs30'] <- log(df_flt[,vs30])\n",
    "    \n",
    "    #distance scaling for random effects\n",
    "    df_flt['reff_rrup'] <- scl_rrup_rref * df_flt['rrup']\n",
    "    \n",
    "    return(df_flt)\n",
    "}\n",
    "\n",
    "#compute median scaling\n",
    "calc_med_scl <- function(df){\n",
    "    return( c_intrcp + c_mag * df$mag + c_mag2 * df$mag2 + c_gs * df$gs + c_rrup * df$rrup + c_lnvs30 * df$lnvs30 )\n",
    "}\n",
    "\n",
    "#add utm coordinates\n",
    "\n",
    "#custom scaling functions\n",
    "fun_mag_quad     <- function(mag) (8.5-mag)^2 \n",
    "fun_pseudo_depth <- function(mag)  5 * exp(0.4*(mag-6))\n",
    "\n",
    "#compute scaling terms\n",
    "df_syn_ds <- calc_scl_terms(df_syn_ds, scl_rrup_rref=scl_rrup_rref, fun_mag_quad=fun_mag_quad, fun_pseudo_depth=fun_pseudo_depth)"
   ]
  },
  {
   "cell_type": "markdown",
   "id": "ced1fe90-8be9-421e-9934-a78843ece7ff",
   "metadata": {},
   "source": [
    "#### Initialize Dataset"
   ]
  },
  {
   "cell_type": "code",
   "execution_count": null,
   "id": "bb799c06-787e-4e60-a90b-3f753de1537a",
   "metadata": {},
   "outputs": [],
   "source": [
    "#intitialize random effects\n",
    "df_syn_ds_eq <- data.frame(event_id=unique(df_syn_ds$event_id))     #event random effects\n",
    "df_syn_ds_eq <- df_syn_ds_eq %>% left_join(df_syn_ds[,c('event_id','event_name','comcat_id','magnitude')], by='event_id', multiple='first')\n",
    "df_syn_ds_st <- data.frame(station_id=unique(df_syn_ds$station_id)) #station random effects\n",
    "df_syn_ds_st <- df_syn_ds_st %>% left_join(df_syn_ds[,c('station_id','vs30')], by='station_id', multiple='first')\n",
    "\n",
    "#initialize coefficinet dataframe\n",
    "df_gmm_coeffs <- as.data.frame(t(c(c_intrcp,c_mag,c_mag2,c_gs,c_rrup,c_lnvs30,tau,tauP,phi,phiS2S,phiP)),\n",
    "                               row.names='gmm_syn')\n",
    "colnames(df_gmm_coeffs) <- c('(Intercept)','mag','mag2','gs','rrup','lnvs30','tau','tauP','phi','phiS2S','phiP')"
   ]
  },
  {
   "cell_type": "markdown",
   "id": "bb5051b9-70a9-4b16-8233-5b419437b975",
   "metadata": {},
   "source": [
    "### Synthetic Dataset"
   ]
  },
  {
   "cell_type": "code",
   "execution_count": null,
   "id": "2998261f-605c-419c-a62a-6083a61594ee",
   "metadata": {},
   "outputs": [],
   "source": [
    "#median ground motion\n",
    "df_syn_ds$med_w_mag  <- c_intrcp + c_mag * df_syn_ds$mag + c_mag2 * df_syn_ds$mag2 + c_gs * df_syn_ds$gs + c_rrup * df_syn_ds$rrup + c_lnvs30 * df_syn_ds$lnvs30\n",
    "df_syn_ds$med_wo_mag <- c_intrcp +                                                   c_gs * df_syn_ds$gs + c_rrup * df_syn_ds$rrup + c_lnvs30 * df_syn_ds$lnvs30\n",
    "\n",
    "#hetero-scedasticity scaling\n",
    "# df_syn_ds$scl_dW    <- sapply( df_syn_ds$magnitude,    function(x) 1.4 - min(0.2*max(x-4,0),0.4) )\n",
    "# df_syn_ds_eq$scl_dB <- sapply( df_syn_ds_eq$magnitude, function(x) 1.2 - min(0.1*max(x-5,0),0.2) )\n",
    "df_syn_ds$scl_dW    <- 1\n",
    "df_syn_ds$scl_dW    <- sapply( df_syn_ds$magnitude,    function(x) 1.8 - min(0.40*max(x-4,0),0.8) )\n",
    "df_syn_ds_eq$scl_dB <- sapply( df_syn_ds_eq$magnitude, function(x) 1.5 - min(0.25*max(x-5,0),0.5) )\n",
    "                              \n",
    "#within event variability\n",
    "df_syn_ds$dW <- df_syn_ds$scl_dW * rnorm(nrow(df_syn_ds), sd=phi)\n",
    "\n",
    "#random effects conditioned on event id\n",
    "df_syn_ds_eq$dB   <-  df_syn_ds_eq$scl_dB * rnorm(nrow(df_syn_ds_eq), sd=tau)\n",
    "df_syn_ds_eq$dBP  <-                        rnorm(nrow(df_syn_ds_eq), sd=tauP)\n",
    "#random effects conditioned on station id\n",
    "df_syn_ds_st$dS2S <- rnorm(nrow(df_syn_ds_st), sd=phiS2S)\n",
    "df_syn_ds_st$dSP  <- rnorm(nrow(df_syn_ds_st), sd=phiP)\n",
    "\n",
    "#merge random effects on synthetic dataset\n",
    "df_syn_ds <- df_syn_ds %>% left_join(df_syn_ds_eq[c('event_id','dB','dBP','scl_dB')], by='event_id')\n",
    "df_syn_ds <- df_syn_ds %>% left_join(df_syn_ds_st[c('station_id','dS2S','dSP')],      by='station_id')\n",
    "\n",
    "#toal residuals \n",
    "df_syn_ds$syn_erg_req_dT <- df_syn_ds$dW + df_syn_ds$dB +                   df_syn_ds$rrup * df_syn_ds$dBP\n",
    "df_syn_ds$syn_ss_req_dT  <- df_syn_ds$dW + df_syn_ds$dB + df_syn_ds$dS2S +  df_syn_ds$rrup * df_syn_ds$dBP\n",
    "\n",
    "#compute response variable\n",
    "df_syn_ds$syn_erg_w_mag_req_y  <- df_syn_ds$med_w_mag  + df_syn_ds$syn_erg_req_dT \n",
    "df_syn_ds$syn_ss_w_mag_req_y   <- df_syn_ds$med_w_mag  + df_syn_ds$syn_ss_req_dT\n",
    "df_syn_ds$syn_erg_wo_mag_req_y <- df_syn_ds$med_wo_mag + df_syn_ds$syn_erg_req_dT \n",
    "df_syn_ds$syn_ss_wo_mag_req_y  <- df_syn_ds$med_wo_mag + df_syn_ds$syn_ss_req_dT"
   ]
  },
  {
   "cell_type": "code",
   "execution_count": null,
   "id": "a59364bb-3c75-4074-b7b6-64ac20e8368d",
   "metadata": {},
   "outputs": [],
   "source": [
    "title_name <- 'Tau and Phi Scaling'\n",
    "pl_gmm_tau_scl <- ggplot(data=df_syn_ds, aes(x=mag, y=scl_dW)) + geom_point(aes(color=as.factor(1)), size=2) +\n",
    "                                    geom_abline(intercept=1, slope=0,linetype=\"dashed\") +\n",
    "                                    labs(x='Magnitude', y='phi scaling', title=title_name) +\n",
    "                                    ylim(0, 2) +\n",
    "                                    theme(plot.title=element_text(size=size_title),  axis.title=element_text(size=size_title), \n",
    "                                          axis.text.y=element_text(size=size_text),  axis.text.x=element_text(size=size_text),\n",
    "                                          legend.title=element_text(size=size_text), legend.text=element_text(size=size_text)) +\n",
    "                                    theme(legend.position = \"none\")\n",
    "\n",
    "pl_gmm_phi_scl <- ggplot(data=df_syn_ds, aes(x=mag, y=scl_dB)) + geom_point(aes(color=as.factor(1)), size=2) +\n",
    "                                    geom_abline(intercept=1, slope=0,linetype=\"dashed\") +\n",
    "                                    labs(x='Magnitude', y='tau scaling', title='') +\n",
    "                                    ylim(0, 2) +\n",
    "                                    theme(plot.title=element_text(size=size_title),  axis.title=element_text(size=size_title), \n",
    "                                          axis.text.y=element_text(size=size_text),  axis.text.x=element_text(size=size_text),\n",
    "                                          legend.title=element_text(size=size_text), legend.text=element_text(size=size_text)) +\n",
    "                                    theme(legend.position = \"none\")\n",
    "\n",
    "options(repr.plot.width=10, repr.plot.height=2*3)\n",
    "ggarrange(pl_gmm_tau_scl, pl_gmm_phi_scl,  ncol=1, nrow=2)"
   ]
  },
  {
   "cell_type": "markdown",
   "id": "de10137f-de88-4012-aa95-57c60fe6e62b",
   "metadata": {},
   "source": [
    "### Save Data"
   ]
  },
  {
   "cell_type": "code",
   "execution_count": null,
   "id": "38e64742-f0b8-47f7-9d1a-e1e073c4ef09",
   "metadata": {},
   "outputs": [],
   "source": [
    "#create output directories\n",
    "dir.create(dir_out, showWarnings = FALSE)\n",
    "dir.create(dir_fig, showWarnings = FALSE)\n",
    "\n",
    "#reorganize and keep relevant columns\n",
    "df_syn_ds <- df_syn_ds[,c('motion_id','event_id','station_id','path_id','user_id','event_name','comcat_id','magnitude','ztor','vs30','rrup',\n",
    "                          'mag','mag2','pdepth','gs','lnvs30','reff_rrup','med_w_mag','med_wo_mag',\n",
    "                          'scl_dW','scl_dB','dW','dB','dBP','dS2S','dSP',\n",
    "                          'syn_erg_w_mag_req_y','syn_ss_w_mag_req_y','syn_erg_wo_mag_req_y','syn_ss_wo_mag_req_y',\n",
    "                          'syn_erg_req_dT','syn_ss_req_dT')]\n",
    "#write out computed regressed residuals\n",
    "write_csv(df_syn_ds, file=file.path(dir_out, 'synds_realiz.csv'))"
   ]
  }
 ],
 "metadata": {
  "IMAGE_NAME": "taccsciapps/ds-nb-img:base-0.1.3",
  "UUID": "68f13350-92e5-11ee-a14b-52c980b961ed",
  "kernelspec": {
   "display_name": "R",
   "language": "R",
   "name": "ir"
  },
  "language_info": {
   "codemirror_mode": "r",
   "file_extension": ".r",
   "mimetype": "text/x-r-source",
   "name": "R",
   "pygments_lexer": "r",
   "version": "4.3.3"
  }
 },
 "nbformat": 4,
 "nbformat_minor": 5
}
